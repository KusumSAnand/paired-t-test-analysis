{
 "cells": [
  {
   "cell_type": "markdown",
   "metadata": {},
   "source": [
    "# Analyzing the Stroop Effect\n",
    "\n",
    "\n"
   ]
  },
  {
   "cell_type": "markdown",
   "metadata": {
    "collapsed": true
   },
   "source": [
    "## Introduction"
   ]
  },
  {
   "cell_type": "markdown",
   "metadata": {},
   "source": [
    "Stroop  Effect is a psychological phenomenon illustrating the difference in the nature of automatic processing by the brain  and that of conscious visual control.J. Ridley Stroop who discovered this phenonmenon, when subjects were asked to read aloud the list of  words of colors where the name of the color and ink color of the name were the same.Bringing in a twist to the reading task, subjects were asked to read aloud the ink color of the word rather than the word itself.Here the ink color and name of the color was different. The subject took a longer time to respond in the second task ,highlighting the interference in the processing there by slowing the reaction time in the response.\n",
    "\n",
    "We will analyse the outcome of Stroop test by creating hypothesis, perform suitable statistical test and report the results."
   ]
  },
  {
   "cell_type": "markdown",
   "metadata": {},
   "source": [
    "## Identify the variables"
   ]
  },
  {
   "cell_type": "markdown",
   "metadata": {},
   "source": [
    "(1) What is the independent variable? What is the dependent variable?"
   ]
  },
  {
   "cell_type": "markdown",
   "metadata": {},
   "source": [
    "**The independent variables in the Stroop Effect experiment are the names of the colors and the font color of the names.There are two independent variables : **\n",
    "\n",
    "\n",
    "\n",
    " **1. *Congruent* - name of the color same as the font color of the word. **  \n",
    " **2. *Incongruent* - name of the color is different from the font color of the word.**\n",
    "   \n",
    "\n",
    "**The dependent variable is the reaction/response time in seconds of reading out loud the independent variables' list of colored words.**  "
   ]
  },
  {
   "cell_type": "markdown",
   "metadata": {},
   "source": [
    "## Hypothesis"
   ]
  },
  {
   "cell_type": "markdown",
   "metadata": {},
   "source": [
    "(2) What is an appropriate set of hypothesis for this task? Specify your null and alternative hypothesis, and clearly define any notation used. Justify your choices."
   ]
  },
  {
   "cell_type": "markdown",
   "metadata": {},
   "source": [
    "**From the Stroop test background we undestand that this psychological test  is a demonstration of interference in the reaction time of a task.Here we have two tasks namely:'Congruent' task where the mind is automatized to read a word and then think a color,making the task easy and quick.In constrast, 'Incongruent' task requires the mind to think/see color first and say aloud the color making the mind to intentionally process the condition thrown,thereby slowing down the response time.**\n",
    "\n",
    "**These two tasks are performed by the same person, the statistical test applicable is the paired T-test (also called a correlated pairs t-test indicating the sets of sample data are dependent). The t-test compares the sample means between the two sets of sample data and tells the statistical significance of the pairwise differences in means and whether it  reflects a difference in the population mean from which the groups are sampled.**\n",
    "\n",
    "**The null hypothesis is the pairwise difference in the averages/means of the paired samples  is 0.**\n",
    "\n",
    "**$ \\mu_{Inc} $ is the  population mean of the Incongruent test condition.** \n",
    "\n",
    "**$ \\mu_{C}  $  is the population mean  of the congruent test condition.**\n",
    "\n",
    "**Here we know that there is additional effort hence additional time to respond to than the congruent task.The alternative hypothesis will be a positive directional hypothesis.**\n",
    "\n",
    "\n",
    "\n",
    "$$H_0: \\mu_{Inc} - \\mu_{C}= 0$$\n",
    "\n",
    "$$H_1: \\mu_{Inc} - \\mu_{C}>0$$\n",
    "\n",
    "***Assumptions of paired t-test***\n",
    "**The key assumption relates to the normality of data and paired t-test is considered to be robust for violations of the normal distribution.**\n",
    "\n",
    "**1. The data are continous.**\n",
    "\n",
    "**2. Differences of the data pairs are normally distributed. **\n",
    "\n",
    "**3. The sample pairs are from a simple random sample from its popluation where each individual in the population  has equal probablity of being selected in the sample.**\n",
    "\n",
    "\n"
   ]
  },
  {
   "cell_type": "markdown",
   "metadata": {},
   "source": [
    "(3) Report some descriptive statistics regarding this dataset. Include at least one measure of central tendency and at least one measure of variability. The name of the data file is 'stroopdata.csv'."
   ]
  },
  {
   "cell_type": "code",
   "execution_count": 3,
   "metadata": {
    "collapsed": false,
    "scrolled": true
   },
   "outputs": [
    {
     "data": {
      "text/html": [
       "<div>\n",
       "<style>\n",
       "    .dataframe thead tr:only-child th {\n",
       "        text-align: right;\n",
       "    }\n",
       "\n",
       "    .dataframe thead th {\n",
       "        text-align: left;\n",
       "    }\n",
       "\n",
       "    .dataframe tbody tr th {\n",
       "        vertical-align: top;\n",
       "    }\n",
       "</style>\n",
       "<table border=\"1\" class=\"dataframe\">\n",
       "  <thead>\n",
       "    <tr style=\"text-align: right;\">\n",
       "      <th></th>\n",
       "      <th>Congruent</th>\n",
       "      <th>Incongruent</th>\n",
       "    </tr>\n",
       "  </thead>\n",
       "  <tbody>\n",
       "    <tr>\n",
       "      <th>0</th>\n",
       "      <td>12.079</td>\n",
       "      <td>19.278</td>\n",
       "    </tr>\n",
       "    <tr>\n",
       "      <th>1</th>\n",
       "      <td>16.791</td>\n",
       "      <td>18.741</td>\n",
       "    </tr>\n",
       "    <tr>\n",
       "      <th>2</th>\n",
       "      <td>9.564</td>\n",
       "      <td>21.214</td>\n",
       "    </tr>\n",
       "    <tr>\n",
       "      <th>3</th>\n",
       "      <td>8.630</td>\n",
       "      <td>15.687</td>\n",
       "    </tr>\n",
       "    <tr>\n",
       "      <th>4</th>\n",
       "      <td>14.669</td>\n",
       "      <td>22.803</td>\n",
       "    </tr>\n",
       "  </tbody>\n",
       "</table>\n",
       "</div>"
      ],
      "text/plain": [
       "   Congruent  Incongruent\n",
       "0     12.079       19.278\n",
       "1     16.791       18.741\n",
       "2      9.564       21.214\n",
       "3      8.630       15.687\n",
       "4     14.669       22.803"
      ]
     },
     "execution_count": 3,
     "metadata": {},
     "output_type": "execute_result"
    }
   ],
   "source": [
    "# Load in the required libraries and the dataset\n",
    "import pandas as pd\n",
    "import numpy as np\n",
    "import matplotlib.pyplot as plt\n",
    "import seaborn as sns\n",
    "% matplotlib inline\n",
    "#from prettytable import PrettyTable\n",
    "#from pandas.tools.plotting import parallel_coordinates\n",
    "\n",
    "stroop_data=pd.read_csv('stroopdata.csv')\n",
    "stroop_data.head()\n"
   ]
  },
  {
   "cell_type": "code",
   "execution_count": 4,
   "metadata": {
    "collapsed": false
   },
   "outputs": [
    {
     "data": {
      "text/plain": [
       "(24, 2)"
      ]
     },
     "execution_count": 4,
     "metadata": {},
     "output_type": "execute_result"
    }
   ],
   "source": [
    "#Number of sample data - 24\n",
    "stroop_data.shape"
   ]
  },
  {
   "cell_type": "code",
   "execution_count": 24,
   "metadata": {
    "collapsed": false
   },
   "outputs": [],
   "source": [
    "#Create  attribute\n",
    "#1. Time difference - The response time difference between reading aloud congruent and incongruent words by the same particpant\n",
    "#2. Participants/subjects serial nos - Each row represents the particpant's reaction time for Congruent and Incongruent word tasks\n",
    "stroop_data['Time_difference']=stroop_data['Incongruent'] - stroop_data['Congruent']\n",
    "stroop_data['Participant']=np.arange(1,25)\n",
    "stroop_data=stroop_data.set_index('Participant')"
   ]
  },
  {
   "cell_type": "code",
   "execution_count": 6,
   "metadata": {
    "collapsed": true
   },
   "outputs": [],
   "source": [
    "#Reset the index\n",
    "stroop_data=stroop_data.reset_index()"
   ]
  },
  {
   "cell_type": "code",
   "execution_count": 7,
   "metadata": {
    "collapsed": false
   },
   "outputs": [
    {
     "data": {
      "text/html": [
       "<div>\n",
       "<style>\n",
       "    .dataframe thead tr:only-child th {\n",
       "        text-align: right;\n",
       "    }\n",
       "\n",
       "    .dataframe thead th {\n",
       "        text-align: left;\n",
       "    }\n",
       "\n",
       "    .dataframe tbody tr th {\n",
       "        vertical-align: top;\n",
       "    }\n",
       "</style>\n",
       "<table border=\"1\" class=\"dataframe\">\n",
       "  <thead>\n",
       "    <tr style=\"text-align: right;\">\n",
       "      <th></th>\n",
       "      <th>Participant</th>\n",
       "      <th>Congruent</th>\n",
       "      <th>Incongruent</th>\n",
       "      <th>Time_difference</th>\n",
       "    </tr>\n",
       "  </thead>\n",
       "  <tbody>\n",
       "    <tr>\n",
       "      <th>0</th>\n",
       "      <td>1</td>\n",
       "      <td>12.079</td>\n",
       "      <td>19.278</td>\n",
       "      <td>7.199</td>\n",
       "    </tr>\n",
       "    <tr>\n",
       "      <th>1</th>\n",
       "      <td>2</td>\n",
       "      <td>16.791</td>\n",
       "      <td>18.741</td>\n",
       "      <td>1.950</td>\n",
       "    </tr>\n",
       "    <tr>\n",
       "      <th>2</th>\n",
       "      <td>3</td>\n",
       "      <td>9.564</td>\n",
       "      <td>21.214</td>\n",
       "      <td>11.650</td>\n",
       "    </tr>\n",
       "    <tr>\n",
       "      <th>3</th>\n",
       "      <td>4</td>\n",
       "      <td>8.630</td>\n",
       "      <td>15.687</td>\n",
       "      <td>7.057</td>\n",
       "    </tr>\n",
       "    <tr>\n",
       "      <th>4</th>\n",
       "      <td>5</td>\n",
       "      <td>14.669</td>\n",
       "      <td>22.803</td>\n",
       "      <td>8.134</td>\n",
       "    </tr>\n",
       "  </tbody>\n",
       "</table>\n",
       "</div>"
      ],
      "text/plain": [
       "   Participant  Congruent  Incongruent  Time_difference\n",
       "0            1     12.079       19.278            7.199\n",
       "1            2     16.791       18.741            1.950\n",
       "2            3      9.564       21.214           11.650\n",
       "3            4      8.630       15.687            7.057\n",
       "4            5     14.669       22.803            8.134"
      ]
     },
     "execution_count": 7,
     "metadata": {},
     "output_type": "execute_result"
    }
   ],
   "source": [
    "#Preview 5 records\n",
    "stroop_data.head()"
   ]
  },
  {
   "cell_type": "markdown",
   "metadata": {},
   "source": [
    "**Time difference shows the increased response time when the task proceeds to 'Incongruent' word reading condition.We will be proving this statistically ahead and hence the alternative hypothesis.**"
   ]
  },
  {
   "cell_type": "code",
   "execution_count": 8,
   "metadata": {
    "collapsed": false
   },
   "outputs": [
    {
     "data": {
      "image/png": "[encoded data removed]",
      "text/plain": [
       "<matplotlib.figure.Figure at 0x99bb160>"
      ]
     },
     "metadata": {},
     "output_type": "display_data"
    }
   ],
   "source": [
    "# input data:\n",
    "Congruent = stroop_data['Congruent']\n",
    "Incongruent = stroop_data['Incongruent']\n",
    "\n",
    "# plot the points\n",
    "plt.scatter(np.zeros(len(Congruent)), Congruent)\n",
    "plt.scatter(np.ones(len(Incongruent)), Incongruent)\n",
    "Congruent\n",
    "#parallel_coordinates(stroop_data, 'Time_difference',cols=[Congruent,Incongruent] )\n",
    "\n",
    "# Connect the points\n",
    "for i in range(len(Congruent)):\n",
    "    plt.plot( [0,1], [Congruent[i], Incongruent[i]], c='g')\n",
    "\n",
    "plt.xticks([0,1], ['Congruent', 'Incongruent'])\n",
    "plt.title('Response time from Congruent to Incongruent word reading')\n",
    "plt.ylabel('Response time in seconds')\n",
    "plt.xlabel('Word condition')\n",
    "\n",
    "plt.show()"
   ]
  },
  {
   "cell_type": "code",
   "execution_count": 7,
   "metadata": {
    "collapsed": false
   },
   "outputs": [
    {
     "data": {
      "text/html": [
       "<div>\n",
       "<style>\n",
       "    .dataframe thead tr:only-child th {\n",
       "        text-align: right;\n",
       "    }\n",
       "\n",
       "    .dataframe thead th {\n",
       "        text-align: left;\n",
       "    }\n",
       "\n",
       "    .dataframe tbody tr th {\n",
       "        vertical-align: top;\n",
       "    }\n",
       "</style>\n",
       "<table border=\"1\" class=\"dataframe\">\n",
       "  <thead>\n",
       "    <tr style=\"text-align: right;\">\n",
       "      <th></th>\n",
       "      <th>Congruent</th>\n",
       "      <th>Incongruent</th>\n",
       "      <th>Time_difference</th>\n",
       "    </tr>\n",
       "  </thead>\n",
       "  <tbody>\n",
       "    <tr>\n",
       "      <th>count</th>\n",
       "      <td>24.000000</td>\n",
       "      <td>24.000000</td>\n",
       "      <td>24.000000</td>\n",
       "    </tr>\n",
       "    <tr>\n",
       "      <th>mean</th>\n",
       "      <td>14.051125</td>\n",
       "      <td>22.015917</td>\n",
       "      <td>7.964792</td>\n",
       "    </tr>\n",
       "    <tr>\n",
       "      <th>std</th>\n",
       "      <td>3.559358</td>\n",
       "      <td>4.797057</td>\n",
       "      <td>4.864827</td>\n",
       "    </tr>\n",
       "    <tr>\n",
       "      <th>min</th>\n",
       "      <td>8.630000</td>\n",
       "      <td>15.687000</td>\n",
       "      <td>1.950000</td>\n",
       "    </tr>\n",
       "    <tr>\n",
       "      <th>25%</th>\n",
       "      <td>11.895250</td>\n",
       "      <td>18.716750</td>\n",
       "      <td>3.645500</td>\n",
       "    </tr>\n",
       "    <tr>\n",
       "      <th>50%</th>\n",
       "      <td>14.356500</td>\n",
       "      <td>21.017500</td>\n",
       "      <td>7.666500</td>\n",
       "    </tr>\n",
       "    <tr>\n",
       "      <th>75%</th>\n",
       "      <td>16.200750</td>\n",
       "      <td>24.051500</td>\n",
       "      <td>10.258500</td>\n",
       "    </tr>\n",
       "    <tr>\n",
       "      <th>max</th>\n",
       "      <td>22.328000</td>\n",
       "      <td>35.255000</td>\n",
       "      <td>21.919000</td>\n",
       "    </tr>\n",
       "  </tbody>\n",
       "</table>\n",
       "</div>"
      ],
      "text/plain": [
       "       Congruent  Incongruent  Time_difference\n",
       "count  24.000000    24.000000        24.000000\n",
       "mean   14.051125    22.015917         7.964792\n",
       "std     3.559358     4.797057         4.864827\n",
       "min     8.630000    15.687000         1.950000\n",
       "25%    11.895250    18.716750         3.645500\n",
       "50%    14.356500    21.017500         7.666500\n",
       "75%    16.200750    24.051500        10.258500\n",
       "max    22.328000    35.255000        21.919000"
      ]
     },
     "execution_count": 7,
     "metadata": {},
     "output_type": "execute_result"
    }
   ],
   "source": [
    "#Summary statistics provides the measure of central tendency and variability.\n",
    "summary_stat_stroopData=stroop_data.describe() \n",
    "summary_stat_stroopData"
   ]
  },
  {
   "cell_type": "markdown",
   "metadata": {},
   "source": [
    "***Measure of central tendency - Mean :***"
   ]
  },
  {
   "cell_type": "code",
   "execution_count": 10,
   "metadata": {
    "collapsed": false
   },
   "outputs": [
    {
     "data": {
      "text/plain": [
       "Congruent      14.051125\n",
       "Incongruent    22.015917\n",
       "Name: mean, dtype: float64"
      ]
     },
     "execution_count": 10,
     "metadata": {},
     "output_type": "execute_result"
    }
   ],
   "source": [
    "summary_stat_stroopData.loc['mean','Congruent':'Incongruent']"
   ]
  },
  {
   "cell_type": "markdown",
   "metadata": {},
   "source": [
    "***Measure of variability -Standard Deviation :***\n"
   ]
  },
  {
   "cell_type": "code",
   "execution_count": 26,
   "metadata": {
    "collapsed": false
   },
   "outputs": [
    {
     "data": {
      "text/plain": [
       "Congruent      3.559358\n",
       "Incongruent    4.797057\n",
       "Name: std, dtype: float64"
      ]
     },
     "execution_count": 26,
     "metadata": {},
     "output_type": "execute_result"
    }
   ],
   "source": [
    "summary_stat_stroopData.loc['std','Congruent':'Incongruent']"
   ]
  },
  {
   "cell_type": "markdown",
   "metadata": {},
   "source": [
    "| Colored word condition | Measure of central tendency - Mean   | Measure of variability -Standard Deviation |\n",
    "|:-----------------------|:------------------------------------:|:------------------------------------------:|\n",
    "|       Congruent        |               14.0511                |                   3.5594                   |\n",
    "|      Incongruent       |               22.0159                |                   4.7971                   |\n"
   ]
  },
  {
   "cell_type": "markdown",
   "metadata": {},
   "source": [
    "(4) Provide one or two visualizations that show the distribution of the sample data. Write one or two sentences noting what you observe about the plot or plots."
   ]
  },
  {
   "cell_type": "markdown",
   "metadata": {},
   "source": [
    "**Distribution of the sample data is visualized using box plot and distplot.**"
   ]
  },
  {
   "cell_type": "code",
   "execution_count": 23,
   "metadata": {
    "collapsed": false
   },
   "outputs": [
    {
     "data": {
      "image/png": "[encoded data removed]",
      "text/plain": [
       "<matplotlib.figure.Figure at 0xae36160>"
      ]
     },
     "metadata": {},
     "output_type": "display_data"
    }
   ],
   "source": [
    "# Box plot visualization\n",
    "\n",
    "plt.figure(figsize=(7,5))\n",
    "sns.boxplot(data=stroop_data[['Congruent','Incongruent']],palette='muted',fliersize =6,linewidth=1.5);\n",
    "sns.swarmplot(data=stroop_data[['Congruent','Incongruent']],linewidth=1.0);\n",
    "plt.title(' Response time distribution');\n",
    "plt.ylabel('Response time in seconds');"
   ]
  },
  {
   "cell_type": "markdown",
   "metadata": {},
   "source": [
    "The box plot has been overlayed with swarm plot.Since the number of samples are small(n<30),we can see use swarm plot to display the underlying distribution.The summary statistics showing the measures of central tendency and spread of data is visualized here.\n",
    "\n",
    "The response time is greater under 'Incongruent' word condition with median value at 21.02 seconds while median for 'Congruent' word condition is at 14.36 seconds.\n",
    "We see outliers under 'Incongruent' word condition at 35.35 seconds.Outliers influence mean value and hence standard deviation.\n",
    "\n",
    "Box plot distribution for 'Congruent' is left skewed with median(14.36) > (mean 14.05) while  'Incongruent' is slightly right skewed with mean(22.02)> median(21.02)\n",
    "\n",
    "Standard deviation is higher for 'Incongruent' condition at 4.79 indicating greater spread in data while 'Congruent' condition is at 3.56.\n",
    "\n",
    "Consider the below distribution visualized using distplot  which plots a histogram and overlays a kernel density estimate to visualize the shape of a distribution and rug plot displays the datapoints.Both mean and median for 'Congruent' condition, 'Incongruent' condition and their 'Time_difference' are close enough to be in the tallest bin(peak).The curve is nearly symmetrical(without considering the outliers) and is approximately normally distributed."
   ]
  },
  {
   "cell_type": "code",
   "execution_count": 25,
   "metadata": {
    "collapsed": false
   },
   "outputs": [
    {
     "data": {
      "image/png": "[encoded data removed]",
      "text/plain": [
       "<matplotlib.figure.Figure at 0x995c6a0>"
      ]
     },
     "metadata": {},
     "output_type": "display_data"
    }
   ],
   "source": [
    "#Displot visualization \n",
    "plt.figure(figsize=(7,5))\n",
    "sns.distplot(stroop_data['Congruent'], rug = True, label = \"Congruent\",color='r');\n",
    "sns.distplot(stroop_data['Incongruent'], rug = True, label = \"Incongruent\");\n",
    "sns.distplot(stroop_data['Time_difference'], rug = True, label = \"Time_difference\");\n",
    "plt.title(' Response time distribution:Congruent vs Incongruent');\n",
    "plt.xlabel('Response time in seconds');\n",
    "plt.ylabel('Frequency');\n",
    "plt.legend();"
   ]
  },
  {
   "cell_type": "markdown",
   "metadata": {},
   "source": [
    " ## Statistical test and results"
   ]
  },
  {
   "cell_type": "markdown",
   "metadata": {},
   "source": [
    "(5)  Now, perform the statistical test and report your results. What is your confidence level or Type I error associated with your test? What is your conclusion regarding the hypotheses you set up? Did the results match up with your expectations? **Hint:**  Think about what is being measured on each individual, and what statistic best captures how an individual reacts in each environment."
   ]
  },
  {
   "cell_type": "markdown",
   "metadata": {},
   "source": [
    "**As stated under question 2,we have 2 related groups of data under two different tasks being performed by the same individual.Considering that the sample size is n < 30 ,suitable statistical test is a paired T-test (also called a correlated pairs t-test indicating the sets of sample data are dependent).**\n",
    "\n",
    "\n",
    "** Steps for the paired sample t-test :**"
   ]
  },
  {
   "cell_type": "code",
   "execution_count": 14,
   "metadata": {
    "collapsed": false
   },
   "outputs": [
    {
     "data": {
      "text/plain": [
       "Ttest_relResult(statistic=8.020706944109957, pvalue=4.1030005857111781e-08)"
      ]
     },
     "execution_count": 14,
     "metadata": {},
     "output_type": "execute_result"
    }
   ],
   "source": [
    "#import stats module`\n",
    "from scipy import stats\n",
    "\n",
    "#1.Compute t-statistic  and p-value using function ttest_rel ca\n",
    "stats.ttest_rel(stroop_data['Incongruent'], stroop_data['Congruent'])"
   ]
  },
  {
   "cell_type": "markdown",
   "metadata": {},
   "source": [
    "The output generated consists of t-statistic value and the pvalue, which is a 2-tailed p-value as ttest_rel is 2-tailed ttest for null hypothesis. Let us consider a confidence level of 95% therefore our Type-I error rate, $\\alpha $ or the threshold significance level is 0.05. Inorder to infer that the  p-value generated from the paired t-test is statistically significant, the value is compared to $\\alpha $.\n",
    "\n",
    "Briefly, let us get an intuition of the individual parameters for calculating t-statistic.Values are from from summary statistics.\n",
    "\n",
    "$\\overline{d}$ = mean difference -->7.964792 \n",
    "\n",
    "$S_{d}$ = standard deviation difference -->4.864827\n",
    "\n",
    "$\\sqrt{n}$ = sqrt(sample size) -->24"
   ]
  },
  {
   "cell_type": "markdown",
   "metadata": {},
   "source": [
    "$$t-statistic=\\frac{\\overline{d}}{\\frac{S_{d}}{\\sqrt{n}}}$$"
   ]
  },
  {
   "cell_type": "code",
   "execution_count": 1,
   "metadata": {
    "collapsed": false
   },
   "outputs": [
    {
     "data": {
      "text/plain": [
       "2.051500292855589e-08"
      ]
     },
     "execution_count": 1,
     "metadata": {},
     "output_type": "execute_result"
    }
   ],
   "source": [
    "#Since ours is a one-tailed paired ttest, compute p-value for one-tailed ttest .\n",
    "pvalue=4.1030005857111781e-08\n",
    "one_tailed_pvalue=pvalue/2\n",
    "one_tailed_pvalue"
   ]
  },
  {
   "cell_type": "code",
   "execution_count": 15,
   "metadata": {
    "collapsed": false
   },
   "outputs": [
    {
     "data": {
      "text/plain": [
       "(-1.7138715277470478, 1.7138715277470473)"
      ]
     },
     "execution_count": 15,
     "metadata": {},
     "output_type": "execute_result"
    }
   ],
   "source": [
    "#Compute critical value uisng confidence level(cl) and degrees of freedom(df). Can cross chekc the values by looking up \n",
    "#the t-distribution table.\n",
    "cl=0.9\n",
    "df=23 #(sample size(n)-1)\n",
    "t_critical_value=stats.t.interval(0.9,23)\n",
    "t_critical_value"
   ]
  },
  {
   "cell_type": "code",
   "execution_count": 22,
   "metadata": {
    "collapsed": false
   },
   "outputs": [
    {
     "data": {
      "text/plain": [
       "(-1.7138715277470478, 1.7138715277470473)"
      ]
     },
     "execution_count": 22,
     "metadata": {},
     "output_type": "execute_result"
    }
   ],
   "source": [
    "#Alternatively\n",
    "# t-critical values at alpha = 0.05 and df = 23 for one-tailed t-test, q = Quantile to check\n",
    "df=23\n",
    "t_critical_values = (stats.t.ppf(q=0.05,df=df), stats.t.ppf(q=0.95,df=df))  \n",
    "t_critical_values"
   ]
  },
  {
   "cell_type": "markdown",
   "metadata": {},
   "source": [
    "##  Conclusions"
   ]
  },
  {
   "cell_type": "markdown",
   "metadata": {},
   "source": [
    "**1. Our computed one-tailed p-value is 2.051500292855589e-08 which is way less than the alpha of 0.05.**\n",
    "\n",
    "**2. The t-statistic value is 8.02071 which is outside of the critical value 1.714 in the t-distribution.**\n",
    "\n",
    "**3. Note  that we have a very large test statistic and a very small p-value.**\n",
    "\n",
    "**4. There is just 2.051500292855589e-08 odds of getting equal response time inorder to incline towards null hypothesis.**\n",
    "\n",
    "** With t-statistic > t-critical value and p-value < alpha, the result is statistically significant. The above observations makes it clear that we reject the null hypothesis in favour of alternative hypothesis.This is in sync with the time difference plot showing greater response time for reading 'Incongruent' word condition,indicating mind needs to pause and process the task then proceed with  reading.**"
   ]
  },
  {
   "cell_type": "markdown",
   "metadata": {},
   "source": [
    "(6) Optional: What do you think is responsible for the effects observed? Can you think of an alternative or similar task that would result in a similar effect? Some research about the problem will be helpful for thinking about these two questions!"
   ]
  },
  {
   "cell_type": "markdown",
   "metadata": {},
   "source": [
    "**Stroop test is used to measure selective attention capacity and processing speed ability of an individual and how cognitve  control improves with age. The color reading test shows that out brain is automatized to semantic reading.The congruent word reading task has quicker response as the mind read the word and thought of the color. The subsequent task introduced interference, where the mind had to pause to process the info 'read the color first and not the word'.This psychological test is a popular test and is used in neuropsychological assessments. The test has spawned into variations like  Numerical Stroop effect,Emotional stroop effect,etc  and is also used in Multilingualism.**"
   ]
  },
  {
   "cell_type": "markdown",
   "metadata": {},
   "source": [
    "\n",
    "***References***\n",
    "\n",
    " 1. [Why use a paired t test](http://support.minitab.com/en-us/minitab/17/topic-library/basic-statistics-and-graphs/hypothesis-tests/tests-of-means/why-use-paired-t/)  \n",
    " \n",
    " 2. [ Paired Samples T Test](http://www.statisticshowto.com/probability-and-statistics/t-test/)\n",
    " \n",
    " 3. [Parallel axis dot plot](https://stackoverflow.com/questions/32538812/parallel-axis-dot-plot-with-vertical-histograms-for-paired-samples)\n",
    " \n",
    " 4. [Distributions](https://seaborn.pydata.org/tutorial/distributions.html)\n",
    " \n",
    " 5. [Basic Stats](http://www.statisticshowto.com/test-statistic/)\n",
    " \n",
    " 6. [Stackoverflow](https://stackoverflow.com/questions/17290661/interpretting-scipy-functions-meaning-and-usage-t-interval?rq=1)"
   ]
  }
 ],
 "metadata": {
  "anaconda-cloud": {},
  "kernelspec": {
   "display_name": "Python [conda env:udacity_ipnd]",
   "language": "python",
   "name": "conda-env-udacity_ipnd-py"
  },
  "language_info": {
   "codemirror_mode": {
    "name": "ipython",
    "version": 3
   },
   "file_extension": ".py",
   "mimetype": "text/x-python",
   "name": "python",
   "nbconvert_exporter": "python",
   "pygments_lexer": "ipython3",
   "version": "3.6.1"
  }
 },
 "nbformat": 4,
 "nbformat_minor": 2
}
